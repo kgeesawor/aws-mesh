{
 "cells": [
  {
   "cell_type": "code",
   "execution_count": 13,
   "metadata": {},
   "outputs": [],
   "source": [
    "import boto3\n",
    "from botocore.exceptions import NoCredentialsError, ClientError\n",
    "import os\n",
    "import yaml \n",
    "\n",
    "with open('../secrets/aws.yaml', 'r') as file:\n",
    "    credentials = yaml.safe_load(file)\n",
    "\n",
    "# Set up AWS credentials\n",
    "aws_access_key = credentials['aws_access_key_id']\n",
    "aws_secret_key = credentials['aws_secret_access_key']\n",
    "region_name = credentials['aws_region']\n",
    "\n",
    "def create_bucket(bucket_name, region=None):\n",
    "    try:\n",
    "        if region is None:\n",
    "            s3_client = boto3.client('s3')\n",
    "            s3_client.create_bucket(Bucket=bucket_name)\n",
    "        else:\n",
    "            s3_client = boto3.client('s3', region_name=region)\n",
    "            location = {'LocationConstraint': region}\n",
    "            s3_client.create_bucket(Bucket=bucket_name, CreateBucketConfiguration=location)\n",
    "        print(f'Bucket \"{bucket_name}\" created successfully.')\n",
    "    except ClientError as e:\n",
    "        print(e)\n",
    "        return False\n",
    "    return True\n",
    "\n",
    "\n",
    "def upload_file_to_bucket(bucket_name, file_name, folder_name, object_name=None):\n",
    "    if object_name is None:\n",
    "        object_name = os.path.join(folder_name, os.path.basename(file_name))\n",
    "\n",
    "    s3_client = boto3.client(\n",
    "        's3',\n",
    "        aws_access_key_id=aws_access_key,\n",
    "        aws_secret_access_key=aws_secret_key,\n",
    "        region_name=region_name\n",
    "    )\n",
    "    try:\n",
    "        s3_client.upload_file(file_name, bucket_name, object_name)\n",
    "        print(f'File \"{file_name}\" uploaded to bucket \"{bucket_name}\" in folder \"{folder_name}\" as \"{object_name}\".')\n",
    "    except FileNotFoundError:\n",
    "        print(\"The file was not found\")\n",
    "        return False\n",
    "    except NoCredentialsError:\n",
    "        print(\"Credentials not available\")\n",
    "        return False\n",
    "    except ClientError as e:\n",
    "        print(e)\n",
    "        return False\n",
    "    return True\n"
   ]
  },
  {
   "cell_type": "code",
   "execution_count": 11,
   "metadata": {},
   "outputs": [
    {
     "name": "stdout",
     "output_type": "stream",
     "text": [
      "Bucket \"kgto-duckdb-project01\" created successfully.\n"
     ]
    },
    {
     "data": {
      "text/plain": [
       "True"
      ]
     },
     "execution_count": 11,
     "metadata": {},
     "output_type": "execute_result"
    }
   ],
   "source": [
    "# Replace 'your-bucket-name' with your desired bucket name\n",
    "bucket_name = 'kgto-duckdb-project01'\n",
    "create_bucket(bucket_name, region_name)"
   ]
  },
  {
   "cell_type": "code",
   "execution_count": 14,
   "metadata": {},
   "outputs": [
    {
     "name": "stdout",
     "output_type": "stream",
     "text": [
      "File \"../seeds/raw_data.csv\" uploaded to bucket \"kgto-duckdb-project01\" in folder \"data\" as \"data/../seeds/raw_data.csv\".\n"
     ]
    },
    {
     "data": {
      "text/plain": [
       "True"
      ]
     },
     "execution_count": 14,
     "metadata": {},
     "output_type": "execute_result"
    }
   ],
   "source": [
    "upload_file_to_bucket(bucket_name, '../seeds/raw_data.csv', 'data', object_name=None)"
   ]
  },
  {
   "cell_type": "code",
   "execution_count": null,
   "metadata": {},
   "outputs": [],
   "source": []
  }
 ],
 "metadata": {
  "kernelspec": {
   "display_name": "venv",
   "language": "python",
   "name": "python3"
  },
  "language_info": {
   "codemirror_mode": {
    "name": "ipython",
    "version": 3
   },
   "file_extension": ".py",
   "mimetype": "text/x-python",
   "name": "python",
   "nbconvert_exporter": "python",
   "pygments_lexer": "ipython3",
   "version": "3.10.12"
  }
 },
 "nbformat": 4,
 "nbformat_minor": 2
}
