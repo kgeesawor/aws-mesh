{
 "cells": [
  {
   "cell_type": "code",
   "execution_count": null,
   "metadata": {},
   "outputs": [],
   "source": [
    "import sqlmesh\n",
    "import inspect\n",
    "import os\n",
    "\n",
    "def get_methods_and_classes(obj, prefix='', max_depth=3, current_depth=0):\n",
    "    results = []\n",
    "    if current_depth >= max_depth:\n",
    "        return results\n",
    "    \n",
    "    try:\n",
    "        for name, member in inspect.getmembers(obj):\n",
    "            if name.startswith('_'):  # Skip private and special methods\n",
    "                continue\n",
    "            full_name = f\"{prefix}.{name}\" if prefix else name\n",
    "            if inspect.isclass(member):\n",
    "                results.append(f\"Class: {full_name}\")\n",
    "                results.extend(get_methods_and_classes(member, full_name, max_depth, current_depth + 1))\n",
    "            elif inspect.isfunction(member) or inspect.ismethod(member):\n",
    "                results.append(f\"Method/Function: {full_name}\")\n",
    "            elif inspect.ismodule(member) and member.__name__.startswith('sqlmesh'):\n",
    "                results.extend(get_methods_and_classes(member, full_name, max_depth, current_depth + 1))\n",
    "    except Exception as e:\n",
    "        results.append(f\"Error exploring {prefix}: {str(e)}\")\n",
    "    \n",
    "    return results\n",
    "\n",
    "def export_sqlmesh_methods(filename='sqlmesh_methods.txt'):\n",
    "    methods_and_classes = get_methods_and_classes(sqlmesh)\n",
    "    \n",
    "    with open(filename, 'w') as f:\n",
    "        f.write(f\"SQLMesh Version: {sqlmesh.__version__}\\n\\n\")\n",
    "        for item in methods_and_classes:\n",
    "            f.write(f\"{item}\\n\")\n",
    "    \n",
    "    print(f\"SQLMesh methods and classes exported to {os.path.abspath(filename)}\")\n",
    "\n",
    "# Run the export function directly\n",
    "export_sqlmesh_methods()"
   ]
  }
 ],
 "metadata": {
  "kernelspec": {
   "display_name": "venv",
   "language": "python",
   "name": "python3"
  },
  "language_info": {
   "codemirror_mode": {
    "name": "ipython",
    "version": 3
   },
   "file_extension": ".py",
   "mimetype": "text/x-python",
   "name": "python",
   "nbconvert_exporter": "python",
   "pygments_lexer": "ipython3",
   "version": "3.10.12"
  }
 },
 "nbformat": 4,
 "nbformat_minor": 2
}
